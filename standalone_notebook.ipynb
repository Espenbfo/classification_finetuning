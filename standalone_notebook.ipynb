{
 "cells": [
  {
   "cell_type": "code",
   "execution_count": null,
   "metadata": {},
   "outputs": [],
   "source": [
    "%pip install --extra-index-url https://download.pytorch.org/whl/cu117\n",
    "%pip install torch==2.0.0\n",
    "%pip install torchvision==0.15.0\n",
    "%pip install omegaconf\n",
    "%pip install torchmetrics==0.10.3\n",
    "%pip install xformers==0.0.18\n",
    "%pip install opencv-python==4.8.0.76"
   ]
  },
  {
   "cell_type": "code",
   "execution_count": null,
   "metadata": {},
   "outputs": [],
   "source": [
    "from pathlib import Path\n",
    "from torch.utils.data import DataLoader\n",
    "from torchvision.datasets import ImageFolder\n",
    "from torchvision.transforms import *\n",
    "import torch\n",
    "from tqdm import tqdm\n",
    "\n",
    "from dataset import load_dataset, load_dataloader\n",
    "from model import init_model, load_model\n",
    "from torch.optim import Adam\n",
    "from torch.nn.functional import cross_entropy\n",
    "import json\n",
    "import time\n",
    "import numpy as np"
   ]
  },
  {
   "cell_type": "code",
   "execution_count": null,
   "metadata": {},
   "outputs": [],
   "source": [
    "DEVICE = \"cuda\"\n",
    "EPOCHS = 5\n",
    "CONTINUE_TRAINING = True\n",
    "LOSS_MEMORY = 300 # batches\n",
    "BATCH_SIZE = 4\n",
    "CHECKPOINT_TIME = 4 # Minutes\n",
    "LEARNING_RATE_CLASSIFIER = 1e-3\n",
    "LEARNING_RATE_FEATURES = 1e-4\n",
    "FILENAME = \"weights.pt\"\n",
    "TRAIN_TRANSFORMER = False\n",
    "DATASET_FOLDER = Path(r\"\")"
   ]
  },
  {
   "cell_type": "code",
   "execution_count": null,
   "metadata": {},
   "outputs": [],
   "source": [
    "def load_dataset(folder: Path | str, target_size=(224,224)):\n",
    "    return ImageFolder(folder, transform=Compose([RandomHorizontalFlip(), RandomResizedCrop(target_size, (0.8, 1.0)), ToTensor()]))\n",
    "\n",
    "def load_dataloader(dataset, batch_size, shuffle=True):\n",
    "    return DataLoader(dataset, batch_size, shuffle)\n",
    "\n",
    "class Model(nn.Module):\n",
    "    def __init__(self, dino, num_classes):\n",
    "        super(Model, self).__init__()\n",
    "        self.transformer = dino\n",
    "        self.classifier = nn.Sequential(nn.Linear(1024, 256), nn.ReLU(), nn.Linear(256, num_classes))\n",
    "\n",
    "    def forward(self, x):\n",
    "        x = self.transformer(x)\n",
    "        x = self.transformer.norm(x)\n",
    "        x = self.classifier(x)\n",
    "        return x\n",
    "\n",
    "\n",
    "def init_model(classes):\n",
    "    model = torch.hub.load('facebookresearch/dinov2', 'dinov2_vitl14')\n",
    "\n",
    "    model = Model(model, classes)\n",
    "    return model\n",
    "\n",
    "def load_model(classes, filename):\n",
    "    model = torch.hub.load('facebookresearch/dinov2', 'dinov2_vitl14')\n",
    "\n",
    "    model = Model(model, classes)\n",
    "    m_state_dict = torch.load(filename)\n",
    "    model.load_state_dict(m_state_dict)\n",
    "    return model"
   ]
  },
  {
   "cell_type": "code",
   "execution_count": null,
   "metadata": {},
   "outputs": [],
   "source": [
    "print(\"Cuda available?\", torch.cuda.is_available())"
   ]
  },
  {
   "cell_type": "code",
   "execution_count": null,
   "metadata": {},
   "outputs": [],
   "source": [
    "dataset = load_dataset(DATASET_FOLDER)\n",
    "dataloader = load_dataloader(dataset, BATCH_SIZE, True)\n",
    "if CONTINUE_TRAINING:\n",
    "    model = load_model(len(dataset.classes), \"weights.pt\").to(DEVICE)\n",
    "else:\n",
    "    model = init_model(len(dataset.classes)).to(DEVICE)\n",
    "if TRAIN_TRANSFORMER:\n",
    "    model.transformer.eval()\n",
    "    optimizer_features = Adam(model.transformer.parameters(LEARNING_RATE_FEATURES))\n",
    "optimizer_classifier = Adam(model.classifier.parameters(LEARNING_RATE_CLASSIFIER))\n",
    "\n",
    "with open(\"classes.json\", \"w\") as f:\n",
    "    json.dump(dataset.classes, f)"
   ]
  },
  {
   "cell_type": "code",
   "execution_count": null,
   "metadata": {},
   "outputs": [],
   "source": [
    "loss_arr = np.zeros(LOSS_MEMORY)\n",
    "acc_arr = np.zeros(LOSS_MEMORY)\n",
    "checkpoint_time = time.time()\n",
    "for epoch in range(EPOCHS):\n",
    "    print(\"epoch\", epoch+1)\n",
    "    total_loss = 0\n",
    "    for index, (batch,label) in (pbar := tqdm(enumerate(dataloader), total=len(dataloader))):\n",
    "        batch = batch.to(DEVICE)\n",
    "        label = label.to(DEVICE)\n",
    "        result = model(batch)\n",
    "        loss = cross_entropy(result, label)\n",
    "        loss.backward()\n",
    "\n",
    "        if TRAIN_TRANSFORMER:\n",
    "            optimizer_features.step()\n",
    "            optimizer_features.zero_grad()\n",
    "\n",
    "        optimizer_classifier.step()\n",
    "        optimizer_classifier.zero_grad()\n",
    "        loss_arr = np.roll(loss_arr, -1)\n",
    "        loss_arr[-1] = loss.detach().cpu()\n",
    "\n",
    "        accuracy = torch.eq(label, torch.argmax(result, dim=1)).sum()/BATCH_SIZE\n",
    "\n",
    "        acc_arr = np.roll(acc_arr, -1)\n",
    "        acc_arr[-1] = accuracy\n",
    "\n",
    "        pbar.postfix = f\"mean loss the last {LOSS_MEMORY} batches {loss_arr.mean():.3f} | accuracy {acc_arr.mean():.3f} | time_since_checkpoint {time.time()-checkpoint_time:.1f}s\"\n",
    "        if (time.time() > checkpoint_time+CHECKPOINT_TIME*60):\n",
    "            torch.save(model.state_dict(), FILENAME)\n",
    "            checkpoint_time = time.time()"
   ]
  }
 ],
 "metadata": {
  "language_info": {
   "name": "python"
  },
  "orig_nbformat": 4
 },
 "nbformat": 4,
 "nbformat_minor": 2
}
